{
 "cells": [
  {
   "cell_type": "code",
   "execution_count": 1,
   "id": "4f45d242",
   "metadata": {},
   "outputs": [],
   "source": [
    "import pandas as pd\n",
    "import json\n",
    "import matplotlib.pyplot as plt\n",
    "import seaborn as sns"
   ]
  },
  {
   "cell_type": "code",
   "execution_count": 2,
   "id": "7e92b2f6",
   "metadata": {},
   "outputs": [],
   "source": [
    "with open(\"buffett_holdings.json\", \"r\") as f:\n",
    "    data = json.load(f)"
   ]
  },
  {
   "cell_type": "code",
   "execution_count": 3,
   "id": "1776b2c3",
   "metadata": {},
   "outputs": [
    {
     "data": {
      "text/html": [
       "<div>\n",
       "<style scoped>\n",
       "    .dataframe tbody tr th:only-of-type {\n",
       "        vertical-align: middle;\n",
       "    }\n",
       "\n",
       "    .dataframe tbody tr th {\n",
       "        vertical-align: top;\n",
       "    }\n",
       "\n",
       "    .dataframe thead th {\n",
       "        text-align: right;\n",
       "    }\n",
       "</style>\n",
       "<table border=\"1\" class=\"dataframe\">\n",
       "  <thead>\n",
       "    <tr style=\"text-align: right;\">\n",
       "      <th></th>\n",
       "      <th>Stock</th>\n",
       "      <th>Shares</th>\n",
       "      <th>Reported Price</th>\n",
       "      <th>Value</th>\n",
       "      <th>Recent Price</th>\n",
       "      <th>Change %</th>\n",
       "    </tr>\n",
       "  </thead>\n",
       "  <tbody>\n",
       "    <tr>\n",
       "      <th>0</th>\n",
       "      <td>AAPL - Apple Inc.</td>\n",
       "      <td>300,000,000</td>\n",
       "      <td>$250.42</td>\n",
       "      <td>$75,126,000,000</td>\n",
       "      <td>$197.22</td>\n",
       "      <td>-21.24%</td>\n",
       "    </tr>\n",
       "    <tr>\n",
       "      <th>1</th>\n",
       "      <td>AXP - American Express</td>\n",
       "      <td>151,610,700</td>\n",
       "      <td>$296.79</td>\n",
       "      <td>$44,996,540,000</td>\n",
       "      <td>$251.31</td>\n",
       "      <td>-15.32%</td>\n",
       "    </tr>\n",
       "    <tr>\n",
       "      <th>2</th>\n",
       "      <td>BAC - Bank of America Corp.</td>\n",
       "      <td>680,233,587</td>\n",
       "      <td>$43.95</td>\n",
       "      <td>$29,896,267,000</td>\n",
       "      <td>$37.40</td>\n",
       "      <td>-14.90%</td>\n",
       "    </tr>\n",
       "    <tr>\n",
       "      <th>3</th>\n",
       "      <td>KO - Coca Cola Co.</td>\n",
       "      <td>400,000,000</td>\n",
       "      <td>$62.26</td>\n",
       "      <td>$24,904,000,000</td>\n",
       "      <td>$73.07</td>\n",
       "      <td>17.36%</td>\n",
       "    </tr>\n",
       "    <tr>\n",
       "      <th>4</th>\n",
       "      <td>CVX - Chevron Corp.</td>\n",
       "      <td>118,610,534</td>\n",
       "      <td>$144.84</td>\n",
       "      <td>$17,179,549,000</td>\n",
       "      <td>$138.00</td>\n",
       "      <td>-4.72%</td>\n",
       "    </tr>\n",
       "  </tbody>\n",
       "</table>\n",
       "</div>"
      ],
      "text/plain": [
       "                         Stock       Shares Reported Price            Value  \\\n",
       "0            AAPL - Apple Inc.  300,000,000        $250.42  $75,126,000,000   \n",
       "1       AXP - American Express  151,610,700        $296.79  $44,996,540,000   \n",
       "2  BAC - Bank of America Corp.  680,233,587         $43.95  $29,896,267,000   \n",
       "3           KO - Coca Cola Co.  400,000,000         $62.26  $24,904,000,000   \n",
       "4          CVX - Chevron Corp.  118,610,534        $144.84  $17,179,549,000   \n",
       "\n",
       "  Recent Price Change %  \n",
       "0      $197.22  -21.24%  \n",
       "1      $251.31  -15.32%  \n",
       "2       $37.40  -14.90%  \n",
       "3       $73.07   17.36%  \n",
       "4      $138.00   -4.72%  "
      ]
     },
     "execution_count": 3,
     "metadata": {},
     "output_type": "execute_result"
    }
   ],
   "source": [
    "df = pd.DataFrame(data)\n",
    "df.head()"
   ]
  },
  {
   "cell_type": "code",
   "execution_count": 4,
   "id": "6ea729cb",
   "metadata": {},
   "outputs": [
    {
     "name": "stderr",
     "output_type": "stream",
     "text": [
      "<>:1: SyntaxWarning: invalid escape sequence '\\$'\n",
      "<>:2: SyntaxWarning: invalid escape sequence '\\$'\n",
      "<>:3: SyntaxWarning: invalid escape sequence '\\$'\n",
      "<>:1: SyntaxWarning: invalid escape sequence '\\$'\n",
      "<>:2: SyntaxWarning: invalid escape sequence '\\$'\n",
      "<>:3: SyntaxWarning: invalid escape sequence '\\$'\n",
      "C:\\Users\\Madhu\\AppData\\Local\\Temp\\ipykernel_2332\\2944739870.py:1: SyntaxWarning: invalid escape sequence '\\$'\n",
      "  df['Value'] = df['Value'].replace('[\\$,]', '', regex=True).astype(float)\n",
      "C:\\Users\\Madhu\\AppData\\Local\\Temp\\ipykernel_2332\\2944739870.py:2: SyntaxWarning: invalid escape sequence '\\$'\n",
      "  df['Reported Price'] = df['Reported Price'].replace('[\\$,]', '', regex=True).astype(float)\n",
      "C:\\Users\\Madhu\\AppData\\Local\\Temp\\ipykernel_2332\\2944739870.py:3: SyntaxWarning: invalid escape sequence '\\$'\n",
      "  df['Recent Price'] = df['Recent Price'].replace('[\\$,]', '', regex=True).astype(float)\n"
     ]
    },
    {
     "data": {
      "text/html": [
       "<div>\n",
       "<style scoped>\n",
       "    .dataframe tbody tr th:only-of-type {\n",
       "        vertical-align: middle;\n",
       "    }\n",
       "\n",
       "    .dataframe tbody tr th {\n",
       "        vertical-align: top;\n",
       "    }\n",
       "\n",
       "    .dataframe thead th {\n",
       "        text-align: right;\n",
       "    }\n",
       "</style>\n",
       "<table border=\"1\" class=\"dataframe\">\n",
       "  <thead>\n",
       "    <tr style=\"text-align: right;\">\n",
       "      <th></th>\n",
       "      <th>Stock</th>\n",
       "      <th>Shares</th>\n",
       "      <th>Reported Price</th>\n",
       "      <th>Value</th>\n",
       "      <th>Recent Price</th>\n",
       "      <th>Change %</th>\n",
       "      <th>Change Numeric</th>\n",
       "    </tr>\n",
       "  </thead>\n",
       "  <tbody>\n",
       "    <tr>\n",
       "      <th>0</th>\n",
       "      <td>AAPL - Apple Inc.</td>\n",
       "      <td>300,000,000</td>\n",
       "      <td>250.42</td>\n",
       "      <td>7.512600e+10</td>\n",
       "      <td>197.22</td>\n",
       "      <td>-21.24%</td>\n",
       "      <td>-21.24</td>\n",
       "    </tr>\n",
       "    <tr>\n",
       "      <th>1</th>\n",
       "      <td>AXP - American Express</td>\n",
       "      <td>151,610,700</td>\n",
       "      <td>296.79</td>\n",
       "      <td>4.499654e+10</td>\n",
       "      <td>251.31</td>\n",
       "      <td>-15.32%</td>\n",
       "      <td>-15.32</td>\n",
       "    </tr>\n",
       "    <tr>\n",
       "      <th>2</th>\n",
       "      <td>BAC - Bank of America Corp.</td>\n",
       "      <td>680,233,587</td>\n",
       "      <td>43.95</td>\n",
       "      <td>2.989627e+10</td>\n",
       "      <td>37.40</td>\n",
       "      <td>-14.90%</td>\n",
       "      <td>-14.90</td>\n",
       "    </tr>\n",
       "    <tr>\n",
       "      <th>3</th>\n",
       "      <td>KO - Coca Cola Co.</td>\n",
       "      <td>400,000,000</td>\n",
       "      <td>62.26</td>\n",
       "      <td>2.490400e+10</td>\n",
       "      <td>73.07</td>\n",
       "      <td>17.36%</td>\n",
       "      <td>17.36</td>\n",
       "    </tr>\n",
       "    <tr>\n",
       "      <th>4</th>\n",
       "      <td>CVX - Chevron Corp.</td>\n",
       "      <td>118,610,534</td>\n",
       "      <td>144.84</td>\n",
       "      <td>1.717955e+10</td>\n",
       "      <td>138.00</td>\n",
       "      <td>-4.72%</td>\n",
       "      <td>-4.72</td>\n",
       "    </tr>\n",
       "  </tbody>\n",
       "</table>\n",
       "</div>"
      ],
      "text/plain": [
       "                         Stock       Shares  Reported Price         Value  \\\n",
       "0            AAPL - Apple Inc.  300,000,000          250.42  7.512600e+10   \n",
       "1       AXP - American Express  151,610,700          296.79  4.499654e+10   \n",
       "2  BAC - Bank of America Corp.  680,233,587           43.95  2.989627e+10   \n",
       "3           KO - Coca Cola Co.  400,000,000           62.26  2.490400e+10   \n",
       "4          CVX - Chevron Corp.  118,610,534          144.84  1.717955e+10   \n",
       "\n",
       "   Recent Price Change %  Change Numeric  \n",
       "0        197.22  -21.24%          -21.24  \n",
       "1        251.31  -15.32%          -15.32  \n",
       "2         37.40  -14.90%          -14.90  \n",
       "3         73.07   17.36%           17.36  \n",
       "4        138.00   -4.72%           -4.72  "
      ]
     },
     "execution_count": 4,
     "metadata": {},
     "output_type": "execute_result"
    }
   ],
   "source": [
    "df['Value'] = df['Value'].replace('[\\$,]', '', regex=True).astype(float)\n",
    "df['Reported Price'] = df['Reported Price'].replace('[\\$,]', '', regex=True).astype(float)\n",
    "df['Recent Price'] = df['Recent Price'].replace('[\\$,]', '', regex=True).astype(float)\n",
    "\n",
    "df['Change Numeric'] = df['Change %'].str.replace('%','').astype(float)\n",
    "\n",
    "df.head()"
   ]
  },
  {
   "cell_type": "markdown",
   "id": "72ab4b6d",
   "metadata": {},
   "source": [
    "# Insights 1: Top Holdings by Value"
   ]
  },
  {
   "cell_type": "code",
   "execution_count": 5,
   "id": "fe169d5a",
   "metadata": {},
   "outputs": [
    {
     "data": {
      "text/html": [
       "<div>\n",
       "<style scoped>\n",
       "    .dataframe tbody tr th:only-of-type {\n",
       "        vertical-align: middle;\n",
       "    }\n",
       "\n",
       "    .dataframe tbody tr th {\n",
       "        vertical-align: top;\n",
       "    }\n",
       "\n",
       "    .dataframe thead th {\n",
       "        text-align: right;\n",
       "    }\n",
       "</style>\n",
       "<table border=\"1\" class=\"dataframe\">\n",
       "  <thead>\n",
       "    <tr style=\"text-align: right;\">\n",
       "      <th></th>\n",
       "      <th>Stock</th>\n",
       "      <th>Value</th>\n",
       "    </tr>\n",
       "  </thead>\n",
       "  <tbody>\n",
       "    <tr>\n",
       "      <th>0</th>\n",
       "      <td>AAPL - Apple Inc.</td>\n",
       "      <td>7.512600e+10</td>\n",
       "    </tr>\n",
       "    <tr>\n",
       "      <th>1</th>\n",
       "      <td>AXP - American Express</td>\n",
       "      <td>4.499654e+10</td>\n",
       "    </tr>\n",
       "    <tr>\n",
       "      <th>2</th>\n",
       "      <td>BAC - Bank of America Corp.</td>\n",
       "      <td>2.989627e+10</td>\n",
       "    </tr>\n",
       "    <tr>\n",
       "      <th>3</th>\n",
       "      <td>KO - Coca Cola Co.</td>\n",
       "      <td>2.490400e+10</td>\n",
       "    </tr>\n",
       "    <tr>\n",
       "      <th>4</th>\n",
       "      <td>CVX - Chevron Corp.</td>\n",
       "      <td>1.717955e+10</td>\n",
       "    </tr>\n",
       "  </tbody>\n",
       "</table>\n",
       "</div>"
      ],
      "text/plain": [
       "                         Stock         Value\n",
       "0            AAPL - Apple Inc.  7.512600e+10\n",
       "1       AXP - American Express  4.499654e+10\n",
       "2  BAC - Bank of America Corp.  2.989627e+10\n",
       "3           KO - Coca Cola Co.  2.490400e+10\n",
       "4          CVX - Chevron Corp.  1.717955e+10"
      ]
     },
     "execution_count": 5,
     "metadata": {},
     "output_type": "execute_result"
    }
   ],
   "source": [
    "df_sorted = df.copy()\n",
    "df_sorted.sort_values(by=\"Value\", ascending=False, inplace=True)\n",
    "df_sorted[['Stock', 'Value']].head(5)"
   ]
  },
  {
   "cell_type": "markdown",
   "id": "fae1e2f4",
   "metadata": {},
   "source": [
    "# Insights 2: Biggest Gainers and Losers (by % Change)\n"
   ]
  },
  {
   "cell_type": "code",
   "execution_count": 6,
   "id": "9d7287a4",
   "metadata": {},
   "outputs": [
    {
     "data": {
      "text/html": [
       "<div>\n",
       "<style scoped>\n",
       "    .dataframe tbody tr th:only-of-type {\n",
       "        vertical-align: middle;\n",
       "    }\n",
       "\n",
       "    .dataframe tbody tr th {\n",
       "        vertical-align: top;\n",
       "    }\n",
       "\n",
       "    .dataframe thead th {\n",
       "        text-align: right;\n",
       "    }\n",
       "</style>\n",
       "<table border=\"1\" class=\"dataframe\">\n",
       "  <thead>\n",
       "    <tr style=\"text-align: right;\">\n",
       "      <th></th>\n",
       "      <th>Stock</th>\n",
       "      <th>Shares</th>\n",
       "      <th>Reported Price</th>\n",
       "      <th>Value</th>\n",
       "      <th>Recent Price</th>\n",
       "      <th>Change %</th>\n",
       "      <th>Change Numeric</th>\n",
       "    </tr>\n",
       "  </thead>\n",
       "  <tbody>\n",
       "    <tr>\n",
       "      <th>33</th>\n",
       "      <td>JEF - Jefferies Financial Group Inc.</td>\n",
       "      <td>433,558</td>\n",
       "      <td>78.40</td>\n",
       "      <td>3.399100e+07</td>\n",
       "      <td>42.82</td>\n",
       "      <td>-45.38%</td>\n",
       "      <td>-45.38</td>\n",
       "    </tr>\n",
       "    <tr>\n",
       "      <th>34</th>\n",
       "      <td>LEN.B - Lennar Corp. CL B</td>\n",
       "      <td>152,572</td>\n",
       "      <td>132.15</td>\n",
       "      <td>2.016200e+07</td>\n",
       "      <td>99.49</td>\n",
       "      <td>-24.71%</td>\n",
       "      <td>-24.71</td>\n",
       "    </tr>\n",
       "    <tr>\n",
       "      <th>0</th>\n",
       "      <td>AAPL - Apple Inc.</td>\n",
       "      <td>300,000,000</td>\n",
       "      <td>250.42</td>\n",
       "      <td>7.512600e+10</td>\n",
       "      <td>197.22</td>\n",
       "      <td>-21.24%</td>\n",
       "      <td>-21.24</td>\n",
       "    </tr>\n",
       "    <tr>\n",
       "      <th>14</th>\n",
       "      <td>AMZN - Amazon.com Inc.</td>\n",
       "      <td>10,000,000</td>\n",
       "      <td>219.39</td>\n",
       "      <td>2.193900e+09</td>\n",
       "      <td>173.09</td>\n",
       "      <td>-21.10%</td>\n",
       "      <td>-21.10</td>\n",
       "    </tr>\n",
       "    <tr>\n",
       "      <th>5</th>\n",
       "      <td>OXY - Occidental Petroleum</td>\n",
       "      <td>264,178,414</td>\n",
       "      <td>49.41</td>\n",
       "      <td>1.305306e+10</td>\n",
       "      <td>39.82</td>\n",
       "      <td>-19.41%</td>\n",
       "      <td>-19.41</td>\n",
       "    </tr>\n",
       "  </tbody>\n",
       "</table>\n",
       "</div>"
      ],
      "text/plain": [
       "                                   Stock       Shares  Reported Price  \\\n",
       "33  JEF - Jefferies Financial Group Inc.      433,558           78.40   \n",
       "34             LEN.B - Lennar Corp. CL B      152,572          132.15   \n",
       "0                      AAPL - Apple Inc.  300,000,000          250.42   \n",
       "14                AMZN - Amazon.com Inc.   10,000,000          219.39   \n",
       "5             OXY - Occidental Petroleum  264,178,414           49.41   \n",
       "\n",
       "           Value  Recent Price Change %  Change Numeric  \n",
       "33  3.399100e+07         42.82  -45.38%          -45.38  \n",
       "34  2.016200e+07         99.49  -24.71%          -24.71  \n",
       "0   7.512600e+10        197.22  -21.24%          -21.24  \n",
       "14  2.193900e+09        173.09  -21.10%          -21.10  \n",
       "5   1.305306e+10         39.82  -19.41%          -19.41  "
      ]
     },
     "execution_count": 6,
     "metadata": {},
     "output_type": "execute_result"
    }
   ],
   "source": [
    "df_sorted.sort_values('Change Numeric', ascending=False).head(5)\n",
    "\n",
    "df_sorted.sort_values('Change Numeric').head(5)"
   ]
  },
  {
   "cell_type": "markdown",
   "id": "a8a44f96",
   "metadata": {},
   "source": [
    "# Insights 3: Portfolio Concentration (Herfindahl Index)"
   ]
  },
  {
   "cell_type": "code",
   "execution_count": 7,
   "id": "9b3d09c8",
   "metadata": {},
   "outputs": [
    {
     "name": "stdout",
     "output_type": "stream",
     "text": [
      "Herfindahl Index: 0.1404\n"
     ]
    }
   ],
   "source": [
    "df['weight'] = df['Value'] / df['Value'].sum()\n",
    "hhi = (df['weight']**2).sum()\n",
    "print(f\"Herfindahl Index: {hhi:.4f}\")\n"
   ]
  },
  {
   "cell_type": "markdown",
   "id": "2882f56b",
   "metadata": {},
   "source": [
    "# Insights 4: Compare Reported Price vs Recent Price"
   ]
  },
  {
   "cell_type": "code",
   "execution_count": 9,
   "id": "aa29d71f",
   "metadata": {},
   "outputs": [
    {
     "name": "stdout",
     "output_type": "stream",
     "text": [
      "Profitable Stocks:                                             Stock  Profit/Loss\n",
      "3                              KO - Coca Cola Co.        10.81\n",
      "8                              CB - Chubb Limited         9.17\n",
      "10                                KR - Kroger Co.        10.07\n",
      "11                           VRSN - Verisign Inc.        39.71\n",
      "13                                  V - Visa Inc.        14.46\n",
      "16                                  AON - Aon Plc         9.24\n",
      "21                       DPZ - Dominos Pizza Inc.        47.05\n",
      "22                        TMUS - T-Mobile US Inc.        39.42\n",
      "23      LLYVK - Liberty Media Corp. Series C Live         0.42\n",
      "27                           NU - Nu Holdings Ltd         0.68\n",
      "28      LLYVA - Liberty Media Corp. Series A Live         0.94\n",
      "30                       HEI.A - HEICO Corp. CL A        10.28\n",
      "36  BATRK - Atlanta Braves Holdings Inc. Series C         0.44\n",
      "Losing Stocks:                                               Stock  Profit/Loss\n",
      "0                                 AAPL - Apple Inc.       -53.20\n",
      "1                            AXP - American Express       -45.48\n",
      "2                       BAC - Bank of America Corp.        -6.55\n",
      "4                               CVX - Chevron Corp.        -6.84\n",
      "5                        OXY - Occidental Petroleum        -9.59\n",
      "6                               MCO - Moody's Corp.       -48.75\n",
      "7                             KHC - Kraft Heinz Co.        -1.25\n",
      "9                  DVA - DaVita HealthCare Partners        -9.55\n",
      "12                     SIRI - SiriusXM Holdings Inc        -2.47\n",
      "14                           AMZN - Amazon.com Inc.       -46.30\n",
      "15                             MA - Mastercard Inc.        -8.57\n",
      "17                      COF - Capital One Financial       -15.50\n",
      "18                       STZ - Constellation Brands       -34.37\n",
      "19                       ALLY - Ally Financial Inc.        -4.39\n",
      "20                               C - Citigroup Inc.        -7.05\n",
      "24                    CHTR - Charter Communications        -3.85\n",
      "25  FWONK - Liberty Media Corp Formula One Series C        -9.87\n",
      "26                    LPX - Louisiana-Pacific Corp.       -19.41\n",
      "29                                POOL - Pool Corp.       -34.94\n",
      "31                                   NVR - NVR Inc.      -989.74\n",
      "32                                 DEO - Diageo ADR       -17.57\n",
      "33             JEF - Jefferies Financial Group Inc.       -35.58\n",
      "34                        LEN.B - Lennar Corp. CL B       -32.66\n",
      "35                     LILA - Liberty LiLAC Group A        -1.00\n",
      "37                    LILAK - Liberty LiLAC Group C        -0.98\n"
     ]
    }
   ],
   "source": [
    "df['Profit/Loss'] = df['Recent Price'] - df['Reported Price']\n",
    "\n",
    "profitable = df[df['Profit/Loss'] > 0]\n",
    "losing = df[df['Profit/Loss'] < 0]\n",
    "\n",
    "print(f\"Profitable Stocks: {profitable[['Stock', 'Profit/Loss']]}\")\n",
    "print(f\"Losing Stocks: {losing[['Stock', 'Profit/Loss']]}\")"
   ]
  },
  {
   "cell_type": "markdown",
   "id": "9e3db27b",
   "metadata": {},
   "source": [
    "# Insights 5: Risk Exposure (Impact of Change on Portfolio Value)"
   ]
  },
  {
   "cell_type": "code",
   "execution_count": 11,
   "id": "a70d34b0",
   "metadata": {},
   "outputs": [
    {
     "data": {
      "text/html": [
       "<div>\n",
       "<style scoped>\n",
       "    .dataframe tbody tr th:only-of-type {\n",
       "        vertical-align: middle;\n",
       "    }\n",
       "\n",
       "    .dataframe tbody tr th {\n",
       "        vertical-align: top;\n",
       "    }\n",
       "\n",
       "    .dataframe thead th {\n",
       "        text-align: right;\n",
       "    }\n",
       "</style>\n",
       "<table border=\"1\" class=\"dataframe\">\n",
       "  <thead>\n",
       "    <tr style=\"text-align: right;\">\n",
       "      <th></th>\n",
       "      <th>Stock</th>\n",
       "      <th>Risk Impact</th>\n",
       "    </tr>\n",
       "  </thead>\n",
       "  <tbody>\n",
       "    <tr>\n",
       "      <th>3</th>\n",
       "      <td>KO - Coca Cola Co.</td>\n",
       "      <td>4.323334e+09</td>\n",
       "    </tr>\n",
       "    <tr>\n",
       "      <th>11</th>\n",
       "      <td>VRSN - Verisign Inc.</td>\n",
       "      <td>5.270842e+08</td>\n",
       "    </tr>\n",
       "    <tr>\n",
       "      <th>10</th>\n",
       "      <td>KR - Kroger Co.</td>\n",
       "      <td>5.035702e+08</td>\n",
       "    </tr>\n",
       "    <tr>\n",
       "      <th>8</th>\n",
       "      <td>CB - Chubb Limited</td>\n",
       "      <td>2.479852e+08</td>\n",
       "    </tr>\n",
       "    <tr>\n",
       "      <th>22</th>\n",
       "      <td>TMUS - T-Mobile US Inc.</td>\n",
       "      <td>1.714874e+08</td>\n",
       "    </tr>\n",
       "  </tbody>\n",
       "</table>\n",
       "</div>"
      ],
      "text/plain": [
       "                      Stock   Risk Impact\n",
       "3        KO - Coca Cola Co.  4.323334e+09\n",
       "11     VRSN - Verisign Inc.  5.270842e+08\n",
       "10          KR - Kroger Co.  5.035702e+08\n",
       "8        CB - Chubb Limited  2.479852e+08\n",
       "22  TMUS - T-Mobile US Inc.  1.714874e+08"
      ]
     },
     "execution_count": 11,
     "metadata": {},
     "output_type": "execute_result"
    }
   ],
   "source": [
    "df['Risk Impact'] = df['Value'] * df['Change Numeric'] / 100\n",
    "df_sorted_risk = df.sort_values('Risk Impact', ascending=False)\n",
    "df_sorted_risk[['Stock', 'Risk Impact']].head(5)\n"
   ]
  },
  {
   "cell_type": "markdown",
   "id": "310bef62",
   "metadata": {},
   "source": [
    "# Insights 6: Sector Allocation (Manual Mapping)\n"
   ]
  },
  {
   "cell_type": "code",
   "execution_count": 12,
   "id": "53258567",
   "metadata": {},
   "outputs": [
    {
     "data": {
      "text/plain": [
       "Series([], Name: Value, dtype: float64)"
      ]
     },
     "execution_count": 12,
     "metadata": {},
     "output_type": "execute_result"
    }
   ],
   "source": [
    "sector_map = {\n",
    "    'AAPL': 'Tech',\n",
    "    'AXP': 'Finance',\n",
    "    'BAC': 'Finance',\n",
    "    'KO': 'Consumer Goods',\n",
    "    'CVX': 'Energy',\n",
    "\n",
    "}\n",
    "\n",
    "df['Sector'] = df['Stock'].map(sector_map)\n",
    "\n",
    "sector_group = df.groupby('Sector')['Value'].sum().sort_values(ascending=False)\n",
    "sector_group"
   ]
  },
  {
   "cell_type": "markdown",
   "id": "a95f31ef",
   "metadata": {},
   "source": [
    "# Insights 7: Visualize Portfolio Distribution (Top Holdings)\n",
    "\n"
   ]
  },
  {
   "cell_type": "code",
   "execution_count": 16,
   "id": "170e9bff",
   "metadata": {},
   "outputs": [
    {
     "data": {
      "image/png": "[encoded data removed]",
      "text/plain": [
       "<Figure size 1000x600 with 1 Axes>"
      ]
     },
     "metadata": {},
     "output_type": "display_data"
    }
   ],
   "source": [
    "plt.figure(figsize=(10, 6))\n",
    "sns.barplot(x='Value', y='Stock', data=df_sorted.head(10))\n",
    "plt.title(\"Top 10 Holdings by Value\")\n",
    "plt.xlabel('Value (in Billions)')\n",
    "plt.ylabel('Stock')\n",
    "plt.show()"
   ]
  },
  {
   "cell_type": "markdown",
   "id": "760e75bc",
   "metadata": {},
   "source": [
    "# Insights 8: Save Data to CSV (Optional)\n"
   ]
  },
  {
   "cell_type": "code",
   "execution_count": 17,
   "id": "f4a9948d",
   "metadata": {},
   "outputs": [
    {
     "name": "stdout",
     "output_type": "stream",
     "text": [
      "Data saved to buffett_holdings.csv\n"
     ]
    }
   ],
   "source": [
    "df.to_csv(\"buffett_holdings.csv\", index=False)\n",
    "\n",
    "print(\"Data saved to buffett_holdings.csv\")"
   ]
  },
  {
   "cell_type": "markdown",
   "id": "ae8933d4",
   "metadata": {},
   "source": [
    "1. Correlation between Stock Price and Portfolio Value"
   ]
  },
  {
   "cell_type": "code",
   "execution_count": 18,
   "id": "953115f4",
   "metadata": {},
   "outputs": [
    {
     "name": "stdout",
     "output_type": "stream",
     "text": [
      "                Recent Price  Reported Price     Value\n",
      "Recent Price        1.000000        0.999714 -0.073268\n",
      "Reported Price      0.999714        1.000000 -0.067160\n",
      "Value              -0.073268       -0.067160  1.000000\n"
     ]
    },
    {
     "data": {
      "image/png": "[encoded data removed]",
      "text/plain": [
       "<Figure size 800x600 with 2 Axes>"
      ]
     },
     "metadata": {},
     "output_type": "display_data"
    }
   ],
   "source": [
    "correlation_matrix = df[['Recent Price', 'Reported Price', 'Value']].corr()\n",
    "print(correlation_matrix)\n",
    "\n",
    "plt.figure(figsize=(8, 6))\n",
    "sns.heatmap(correlation_matrix, annot=True, cmap='coolwarm', fmt='.2f', linewidths=1)\n",
    "plt.title(\"Correlation Matrix\")\n",
    "plt.show()"
   ]
  },
  {
   "cell_type": "code",
   "execution_count": null,
   "id": "080ea7a2",
   "metadata": {},
   "outputs": [],
   "source": []
  }
 ],
 "metadata": {
  "kernelspec": {
   "display_name": "base",
   "language": "python",
   "name": "python3"
  },
  "language_info": {
   "codemirror_mode": {
    "name": "ipython",
    "version": 3
   },
   "file_extension": ".py",
   "mimetype": "text/x-python",
   "name": "python",
   "nbconvert_exporter": "python",
   "pygments_lexer": "ipython3",
   "version": "3.12.7"
  }
 },
 "nbformat": 4,
 "nbformat_minor": 5
}
